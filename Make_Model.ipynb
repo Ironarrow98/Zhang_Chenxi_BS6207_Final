{
  "nbformat": 4,
  "nbformat_minor": 0,
  "metadata": {
    "colab": {
      "name": "Make_Model.ipynb",
      "provenance": [],
      "machine_shape": "hm",
      "collapsed_sections": [
        "adcESCJ22wUP",
        "4EiL4EHL24Xk",
        "PWvEAPynazl3",
        "vSOhKMdK7j37",
        "zYxUlC_kd5o-",
        "rWRkBVtO5y2K",
        "6iDUSUgzadA1"
      ]
    },
    "kernelspec": {
      "name": "python3",
      "display_name": "Python 3"
    },
    "language_info": {
      "name": "python"
    },
    "accelerator": "TPU"
  },
  "cells": [
    {
      "cell_type": "markdown",
      "source": [
        "# Read Dataset and import libraries"
      ],
      "metadata": {
        "id": "adcESCJ22wUP"
      }
    },
    {
      "cell_type": "code",
      "execution_count": 24,
      "metadata": {
        "colab": {
          "base_uri": "https://localhost:8080/"
        },
        "id": "lUYsMpzcvXkg",
        "outputId": "cb36e797-42a2-43ff-fc6a-42c70beda7db"
      },
      "outputs": [
        {
          "output_type": "stream",
          "name": "stdout",
          "text": [
            "fatal: destination path 'Zhang_Chenxi_BS6207_Final' already exists and is not an empty directory.\n"
          ]
        }
      ],
      "source": [
        "! git clone https://github.com/Ironarrow98/Zhang_Chenxi_BS6207_Final"
      ]
    },
    {
      "cell_type": "code",
      "source": [
        "! pip install sparse"
      ],
      "metadata": {
        "colab": {
          "base_uri": "https://localhost:8080/"
        },
        "id": "E_Lr6hf6ziun",
        "outputId": "08dbecc0-740b-4772-b3c1-87551c25bcae"
      },
      "execution_count": 25,
      "outputs": [
        {
          "output_type": "stream",
          "name": "stdout",
          "text": [
            "Requirement already satisfied: sparse in /usr/local/lib/python3.7/dist-packages (0.13.0)\n",
            "Requirement already satisfied: numba>=0.49 in /usr/local/lib/python3.7/dist-packages (from sparse) (0.51.2)\n",
            "Requirement already satisfied: scipy>=0.19 in /usr/local/lib/python3.7/dist-packages (from sparse) (1.4.1)\n",
            "Requirement already satisfied: numpy>=1.17 in /usr/local/lib/python3.7/dist-packages (from sparse) (1.21.5)\n",
            "Requirement already satisfied: setuptools in /usr/local/lib/python3.7/dist-packages (from numba>=0.49->sparse) (57.4.0)\n",
            "Requirement already satisfied: llvmlite<0.35,>=0.34.0.dev0 in /usr/local/lib/python3.7/dist-packages (from numba>=0.49->sparse) (0.34.0)\n"
          ]
        }
      ]
    },
    {
      "cell_type": "code",
      "source": [
        "import matplotlib.pyplot as plt\n",
        "import itertools\n",
        "import numpy as np\n",
        "import random\n",
        "import pandas as pd\n",
        "from tqdm import tqdm, trange\n",
        "import sparse\n",
        "from sparse import COO\n",
        "import tensorflow as tf\n",
        "import tensorflow.keras.backend as K\n",
        "from tensorflow.keras.models import Sequential, Model, load_model\n",
        "from tensorflow.keras.layers import Input, Conv3D, MaxPooling3D,Flatten,Dense, Dropout, BatchNormalization, Add, AveragePooling3D, Activation, GaussianNoise, Lambda\n",
        "from tensorflow.keras import optimizers, losses, regularizers\n",
        "from tensorflow.keras.optimizers import Adam, SGD\n",
        "from tensorflow.keras.activations import relu\n",
        "from tensorflow.keras.callbacks import EarlyStopping, ModelCheckpoint, TensorBoard\n",
        "from sklearn.preprocessing import OneHotEncoder\n",
        "from sklearn.model_selection import train_test_split\n",
        "from sklearn.metrics import confusion_matrix, matthews_corrcoef, roc_curve, auc, classification_report"
      ],
      "metadata": {
        "id": "DCOfPzQZzAyC"
      },
      "execution_count": 26,
      "outputs": []
    },
    {
      "cell_type": "code",
      "source": [
        "# Reads a up to spec pdb file and return a tuple of the\n",
        "# atoms' x, y, z and atomtype\n",
        "def read_pdb(filename):\n",
        "  with open(filename, 'r') as file:\n",
        "    strline_L = file.readlines()\n",
        "  atom_list = []\n",
        "  for strline in strline_L:\n",
        "    # removes all whitespace at the start and end, including spaces, tabs, newlines and carriage returns\n",
        "    stripped_line = strline.strip()\n",
        "\n",
        "    line_length = len(stripped_line)\n",
        "    # print(\"Line length:{}\".format(line_length))\n",
        "    if line_length < 78:\n",
        "      print(\"ERROR: line length is different. Expected>=78, current={}\".format(line_length))\n",
        "        \n",
        "    atom_list.append((\n",
        "        stripped_line[30:38].strip(),\n",
        "        stripped_line[38:46].strip(),\n",
        "        stripped_line[46:54].strip(),\n",
        "        'h' if stripped_line[76:78].strip() == 'C' else 'p'\n",
        "        ))\n",
        "        \n",
        "  return np.array(atom_list, order='F')"
      ],
      "metadata": {
        "id": "wMCX-Y5azDFa"
      },
      "execution_count": 27,
      "outputs": []
    },
    {
      "cell_type": "code",
      "source": [
        "raw_training_data = {\n",
        "    'pro': [],\n",
        "    'lig': []\n",
        "}\n",
        "for i in trange(3000):\n",
        "  raw_training_data['pro'].append(\n",
        "      read_pdb('Zhang_Chenxi_BS6207_Final/training_data/{:04d}_pro_cg.pdb'.format(i + 1)))\n",
        "  raw_training_data['lig'].append(\n",
        "      read_pdb(\"Zhang_Chenxi_BS6207_Final/training_data/{:04d}_lig_cg.pdb\".format(i + 1)))\n",
        "\n",
        "n = int(len(raw_training_data['pro']) * 0.77)\n",
        "raw_training_train_data = {\n",
        "    'pro': raw_training_data['pro'][:n],\n",
        "    'lig': raw_training_data['lig'][:n]\n",
        "}\n",
        "raw_training_test_data = {\n",
        "    'pro': raw_training_data['pro'][n:],\n",
        "    'lig': raw_training_data['lig'][n:]\n",
        "}"
      ],
      "metadata": {
        "colab": {
          "base_uri": "https://localhost:8080/"
        },
        "id": "6no5THzCzRwh",
        "outputId": "40e7ea38-1f1c-441e-b724-3f1a727c0940"
      },
      "execution_count": 28,
      "outputs": [
        {
          "output_type": "stream",
          "name": "stderr",
          "text": [
            "100%|██████████| 3000/3000 [00:10<00:00, 292.27it/s]\n"
          ]
        }
      ]
    },
    {
      "cell_type": "markdown",
      "source": [
        "# Data Pre-processing"
      ],
      "metadata": {
        "id": "4EiL4EHL24Xk"
      }
    },
    {
      "cell_type": "code",
      "source": [
        "# Returns a sparse matrix representation of the voxel\n",
        "def voxelize(pdb_inputs, max_dist, grid_resolution):\n",
        "  \n",
        "  def featurize(atom_type):\n",
        "    feat = [0, 128]\n",
        "    # Change to ligand\n",
        "    if atom_type[1] == 'l':\n",
        "      feat[0] = 1\n",
        "    # change to polar\n",
        "    if atom_type[0] == 'p':\n",
        "      feat[1] = 256\n",
        "    return feat\n",
        "    \n",
        "  max_dist = float(max_dist)\n",
        "  grid_resolution = float(grid_resolution)\n",
        "  box_size = np.ceil(2 * max_dist / grid_resolution)\n",
        "\n",
        "  # merge protein and ligand\n",
        "  pro_atomtypes = pdb_inputs[0]\n",
        "  lig_atomtypes = pdb_inputs[1]\n",
        "  pro_atomtype = np.c_[pro_atomtypes, np.full(pro_atomtypes.shape[0], 'p')]\n",
        "  lig_atomtype = np.c_[lig_atomtypes, np.full(lig_atomtypes.shape[0], 'l')]\n",
        "  all_atoms = np.r_[pro_atomtype, lig_atomtype]\n",
        "\n",
        "  # center all atoms around the mean of the ligand\n",
        "  cord_map = all_atoms[:, :3].astype(float)\n",
        "  cord_map = cord_map - np.mean(lig_atomtype[:, :3].astype(float), axis = 0)\n",
        "\n",
        "  # add feature list to identify the atom h/p and pro/lig\n",
        "  feature_list = np.asarray([featurize(atom_type) for atom_type in all_atoms[:, -2:]])  \n",
        "  atom_map = np.c_[cord_map, feature_list]\n",
        "\n",
        "  # map all atoms to the nearest grid point\n",
        "  atom_map = np.c_[cord_map, feature_list]\n",
        "  atom_map[:, :3] = (atom_map[:, :3] + max_dist) / grid_resolution\n",
        "  atom_map[:, :3] = atom_map[:, :3].round()\n",
        "  atom_map = atom_map.astype(int)\n",
        "\n",
        "  # remove atoms outside the box\n",
        "  in_box = ((atom_map[:, :3] >= 0) & (atom_map[:, :3] < box_size)).all(axis = 1)\n",
        "  atom_map = atom_map[in_box]\n",
        "\n",
        "  # transpose the matrix\n",
        "  features_list = np.squeeze(atom_map[:, -1:])\n",
        "  atom_map = atom_map[:, :4].T\n",
        "    \n",
        "  # create the sparse matrix\n",
        "  result = COO(atom_map, features_list, shape = (int(box_size), int(box_size), int(box_size), 2))\n",
        "  result.sum()\n",
        "  result = result.reshape((1, int(box_size), int(box_size), int(box_size), 2))\n",
        "  \n",
        "  return result"
      ],
      "metadata": {
        "id": "GP6cYjKPzo-u"
      },
      "execution_count": 29,
      "outputs": []
    },
    {
      "cell_type": "code",
      "source": [
        "# Returns a tuple containg the training data and corresponding labels\n",
        "# ratio specifies the number of negative training examples generated\n",
        "# per positive training example\n",
        "def generate_training_data(raw_data, max_dist, grid_resolution):\n",
        "  n = len(raw_data['pro'])\n",
        "  X = []\n",
        "  y = []\n",
        "  pro_name = []\n",
        "  lig_name = []\n",
        "  for i in tqdm(range(n)):\n",
        "\n",
        "    # Generate Positive Pair\n",
        "    pos_pair = voxelize((raw_data['pro'][i], \n",
        "                         raw_data['lig'][i]), \n",
        "                        max_dist, \n",
        "                        grid_resolution)\n",
        "    X.append(pos_pair)\n",
        "    y.append(1)\n",
        "    pro_name.append(i)\n",
        "    lig_name.append(i)\n",
        "\n",
        "    # Generate Negative Pair\n",
        "    pn = random.choice(range(1, n))\n",
        "    ln = pn\n",
        "    while ln == pn:\n",
        "      ln = random.choice(range(1, n))\n",
        "    neg_pair = voxelize((raw_data['pro'][pn], \n",
        "                         raw_data['lig'][ln]), \n",
        "                        max_dist, \n",
        "                        grid_resolution)\n",
        "    X.append(neg_pair)\n",
        "    y.append(0)\n",
        "    pro_name.append(pn)\n",
        "    lig_name.append(ln)\n",
        "\n",
        "  return sparse.concatenate(X), np.asarray(y), pro_name, lig_name"
      ],
      "metadata": {
        "id": "Doy8ennWzph1"
      },
      "execution_count": 30,
      "outputs": []
    },
    {
      "cell_type": "code",
      "source": [
        "X, y, train_pro, train_lig = generate_training_data(raw_training_data, max_dist = 40, grid_resolution = 4)\n",
        "X_train, X_test, y_train, y_test = train_test_split(X, y, test_size = 0.33, random_state = 42)\n",
        "train_X, val_X, train_y, val_y = train_test_split(X_train, y_train, test_size = 0.33, random_state = 42)  "
      ],
      "metadata": {
        "colab": {
          "base_uri": "https://localhost:8080/"
        },
        "id": "8TJyRa1AqITt",
        "outputId": "c2d70d9c-4c3c-470c-d648-bb9b47cc8212"
      },
      "execution_count": 31,
      "outputs": [
        {
          "output_type": "stream",
          "name": "stderr",
          "text": [
            "100%|██████████| 3000/3000 [00:36<00:00, 81.19it/s]\n"
          ]
        }
      ]
    },
    {
      "cell_type": "code",
      "source": [
        "train_X = train_X.todense()\n",
        "val_X = val_X.todense()\n",
        "X_test = X_test.todense()"
      ],
      "metadata": {
        "id": "NT1sd5P476PV"
      },
      "execution_count": 32,
      "outputs": []
    },
    {
      "cell_type": "markdown",
      "source": [
        "# CNN Model"
      ],
      "metadata": {
        "id": "HTdlRORv27mL"
      }
    },
    {
      "cell_type": "markdown",
      "source": [
        "## Model Construction"
      ],
      "metadata": {
        "id": "PWvEAPynazl3"
      }
    },
    {
      "cell_type": "code",
      "source": [
        "def make_CNN(input_shape):\n",
        "\n",
        "  inputs = Input(shape = input_shape)\n",
        "  x = inputs\n",
        "  x = Conv3D(filters = 32,\n",
        "             kernel_size = 3,\n",
        "             strides = 1,\n",
        "             padding = 'same',\n",
        "             kernel_initializer = 'he_normal',\n",
        "             activation=\"relu\")(x)     \n",
        "  x = BatchNormalization()(x)\n",
        "  x = MaxPooling3D(pool_size = 2)(x)\n",
        "\n",
        "  x = Conv3D(filters = 64,\n",
        "             kernel_size = 3,\n",
        "             strides = 1,\n",
        "             padding = 'same',\n",
        "             kernel_initializer = 'he_normal',\n",
        "             activation = \"relu\")(x)     \n",
        "  x = BatchNormalization()(x)\n",
        "  x = MaxPooling3D(pool_size = 2)(x)\n",
        "\n",
        "  x = Conv3D(filters = 128,\n",
        "             kernel_size = 3,\n",
        "             strides = 1,\n",
        "             padding = 'same',\n",
        "             kernel_initializer = 'he_normal',\n",
        "             activation = \"relu\")(x)     \n",
        "  x = BatchNormalization()(x)\n",
        "  x = MaxPooling3D(pool_size = 2)(x)\n",
        "\n",
        "  x = Conv3D(filters = 256,\n",
        "             kernel_size = 3,\n",
        "             strides = 1,\n",
        "             padding = 'same',\n",
        "             kernel_initializer = 'he_normal',\n",
        "             activation = \"relu\")(x)     \n",
        "  x = BatchNormalization()(x)\n",
        "  x = MaxPooling3D(pool_size = 2)(x)\n",
        "\n",
        "  x = Flatten()(x)\n",
        "  x = Dense(128, activation = 'relu', kernel_initializer = 'he_normal')(x)\n",
        "  x = Dropout(0.5)(x)\n",
        "  outputs = Dense(1, activation = 'sigmoid', kernel_initializer = 'he_normal')(x)\n",
        "\n",
        "  return Model(inputs = inputs, outputs = outputs)"
      ],
      "metadata": {
        "id": "sD8p9Z240BHC"
      },
      "execution_count": 33,
      "outputs": []
    },
    {
      "cell_type": "markdown",
      "source": [
        "## Optimizers"
      ],
      "metadata": {
        "id": "vSOhKMdK7j37"
      }
    },
    {
      "cell_type": "code",
      "source": [
        "model1 = make_CNN(input_shape=(20, 20, 20, 2))\n",
        "model2 = make_CNN(input_shape=(20, 20, 20, 2))\n",
        "model3 = make_CNN(input_shape=(20, 20, 20, 2))\n",
        "model1.summary()"
      ],
      "metadata": {
        "colab": {
          "base_uri": "https://localhost:8080/"
        },
        "id": "yocIJQ6z0JTy",
        "outputId": "790d20bd-6606-4f76-b925-b5e5fb3c72be"
      },
      "execution_count": 34,
      "outputs": [
        {
          "output_type": "stream",
          "name": "stdout",
          "text": [
            "Model: \"model_10\"\n",
            "_________________________________________________________________\n",
            " Layer (type)                Output Shape              Param #   \n",
            "=================================================================\n",
            " input_11 (InputLayer)       [(None, 20, 20, 20, 2)]   0         \n",
            "                                                                 \n",
            " conv3d_40 (Conv3D)          (None, 20, 20, 20, 32)    1760      \n",
            "                                                                 \n",
            " batch_normalization_40 (Bat  (None, 20, 20, 20, 32)   128       \n",
            " chNormalization)                                                \n",
            "                                                                 \n",
            " max_pooling3d_40 (MaxPoolin  (None, 10, 10, 10, 32)   0         \n",
            " g3D)                                                            \n",
            "                                                                 \n",
            " conv3d_41 (Conv3D)          (None, 10, 10, 10, 64)    55360     \n",
            "                                                                 \n",
            " batch_normalization_41 (Bat  (None, 10, 10, 10, 64)   256       \n",
            " chNormalization)                                                \n",
            "                                                                 \n",
            " max_pooling3d_41 (MaxPoolin  (None, 5, 5, 5, 64)      0         \n",
            " g3D)                                                            \n",
            "                                                                 \n",
            " conv3d_42 (Conv3D)          (None, 5, 5, 5, 128)      221312    \n",
            "                                                                 \n",
            " batch_normalization_42 (Bat  (None, 5, 5, 5, 128)     512       \n",
            " chNormalization)                                                \n",
            "                                                                 \n",
            " max_pooling3d_42 (MaxPoolin  (None, 2, 2, 2, 128)     0         \n",
            " g3D)                                                            \n",
            "                                                                 \n",
            " conv3d_43 (Conv3D)          (None, 2, 2, 2, 256)      884992    \n",
            "                                                                 \n",
            " batch_normalization_43 (Bat  (None, 2, 2, 2, 256)     1024      \n",
            " chNormalization)                                                \n",
            "                                                                 \n",
            " max_pooling3d_43 (MaxPoolin  (None, 1, 1, 1, 256)     0         \n",
            " g3D)                                                            \n",
            "                                                                 \n",
            " flatten_10 (Flatten)        (None, 256)               0         \n",
            "                                                                 \n",
            " dense_20 (Dense)            (None, 128)               32896     \n",
            "                                                                 \n",
            " dropout_10 (Dropout)        (None, 128)               0         \n",
            "                                                                 \n",
            " dense_21 (Dense)            (None, 1)                 129       \n",
            "                                                                 \n",
            "=================================================================\n",
            "Total params: 1,198,369\n",
            "Trainable params: 1,197,409\n",
            "Non-trainable params: 960\n",
            "_________________________________________________________________\n"
          ]
        }
      ]
    },
    {
      "cell_type": "code",
      "source": [
        "model1.compile(\n",
        "    loss='binary_crossentropy',\n",
        "    metrics=['acc'],\n",
        "    optimizer='Adam'\n",
        ")\n",
        "\n",
        "model2.compile(\n",
        "    loss='binary_crossentropy',\n",
        "    metrics=['acc'],\n",
        "    optimizer='SGD'\n",
        ")\n",
        "\n",
        "model3.compile(\n",
        "    loss='binary_crossentropy',\n",
        "    metrics=['acc'],\n",
        "    optimizer='RMSprop'\n",
        ")\n",
        "\n",
        "# create a callback that will save the best model while training\n",
        "save_best_model1 = ModelCheckpoint('best_model1.h5', monitor='val_acc', mode='max', save_best_only = True, verbose = 2)\n",
        "save_best_model2 = ModelCheckpoint('best_model2.h5', monitor='val_acc', mode='max', save_best_only = True, verbose = 2)\n",
        "save_best_model3 = ModelCheckpoint('best_model3.h5', monitor='val_acc', mode='max', save_best_only = True, verbose = 2)\n",
        "\n",
        "history1 = model1.fit(train_X, train_y, batch_size = 64, epochs = 20, validation_data = (val_X, val_y), shuffle = True, callbacks = [save_best_model1])\n",
        "history2 = model2.fit(train_X, train_y, batch_size = 64, epochs = 20, validation_data = (val_X, val_y), shuffle = True, callbacks = [save_best_model2])\n",
        "history3 = model3.fit(train_X, train_y, batch_size = 64, epochs = 20, validation_data = (val_X, val_y), shuffle = True, callbacks = [save_best_model3])"
      ],
      "metadata": {
        "colab": {
          "base_uri": "https://localhost:8080/"
        },
        "id": "qAkfFDLZ0MXa",
        "outputId": "b921d3b2-f1e6-47fd-89ce-a0cac702ed20"
      },
      "execution_count": 35,
      "outputs": [
        {
          "output_type": "stream",
          "name": "stdout",
          "text": [
            "Epoch 1/20\n",
            "43/43 [==============================] - ETA: 0s - loss: 0.3485 - acc: 0.8901\n",
            "Epoch 1: val_acc improved from -inf to 0.75283, saving model to best_model1.h5\n",
            "43/43 [==============================] - 108s 2s/step - loss: 0.3485 - acc: 0.8901 - val_loss: 3.4052 - val_acc: 0.7528\n",
            "Epoch 2/20\n",
            "43/43 [==============================] - ETA: 0s - loss: 0.2119 - acc: 0.9272\n",
            "Epoch 2: val_acc improved from 0.75283 to 0.92540, saving model to best_model1.h5\n",
            "43/43 [==============================] - 107s 2s/step - loss: 0.2119 - acc: 0.9272 - val_loss: 0.2780 - val_acc: 0.9254\n",
            "Epoch 3/20\n",
            "43/43 [==============================] - ETA: 0s - loss: 0.1935 - acc: 0.9309\n",
            "Epoch 3: val_acc improved from 0.92540 to 0.92992, saving model to best_model1.h5\n",
            "43/43 [==============================] - 108s 3s/step - loss: 0.1935 - acc: 0.9309 - val_loss: 0.2283 - val_acc: 0.9299\n",
            "Epoch 4/20\n",
            "43/43 [==============================] - ETA: 0s - loss: 0.1750 - acc: 0.9421\n",
            "Epoch 4: val_acc did not improve from 0.92992\n",
            "43/43 [==============================] - 107s 2s/step - loss: 0.1750 - acc: 0.9421 - val_loss: 0.3415 - val_acc: 0.8621\n",
            "Epoch 5/20\n",
            "43/43 [==============================] - ETA: 0s - loss: 0.1681 - acc: 0.9436\n",
            "Epoch 5: val_acc did not improve from 0.92992\n",
            "43/43 [==============================] - 108s 3s/step - loss: 0.1681 - acc: 0.9436 - val_loss: 0.2177 - val_acc: 0.9224\n",
            "Epoch 6/20\n",
            "43/43 [==============================] - ETA: 0s - loss: 0.1306 - acc: 0.9566\n",
            "Epoch 6: val_acc did not improve from 0.92992\n",
            "43/43 [==============================] - 107s 2s/step - loss: 0.1306 - acc: 0.9566 - val_loss: 0.2070 - val_acc: 0.9277\n",
            "Epoch 7/20\n",
            "43/43 [==============================] - ETA: 0s - loss: 0.1289 - acc: 0.9543\n",
            "Epoch 7: val_acc did not improve from 0.92992\n",
            "43/43 [==============================] - 107s 2s/step - loss: 0.1289 - acc: 0.9543 - val_loss: 0.3135 - val_acc: 0.8945\n",
            "Epoch 8/20\n",
            "43/43 [==============================] - ETA: 0s - loss: 0.1346 - acc: 0.9506\n",
            "Epoch 8: val_acc did not improve from 0.92992\n",
            "43/43 [==============================] - 107s 2s/step - loss: 0.1346 - acc: 0.9506 - val_loss: 0.3745 - val_acc: 0.8772\n",
            "Epoch 9/20\n",
            "43/43 [==============================] - ETA: 0s - loss: 0.1579 - acc: 0.9458\n",
            "Epoch 9: val_acc did not improve from 0.92992\n",
            "43/43 [==============================] - 108s 3s/step - loss: 0.1579 - acc: 0.9458 - val_loss: 0.2218 - val_acc: 0.9254\n",
            "Epoch 10/20\n",
            "43/43 [==============================] - ETA: 0s - loss: 0.1656 - acc: 0.9387\n",
            "Epoch 10: val_acc did not improve from 0.92992\n",
            "43/43 [==============================] - 107s 2s/step - loss: 0.1656 - acc: 0.9387 - val_loss: 0.4592 - val_acc: 0.8425\n",
            "Epoch 11/20\n",
            "43/43 [==============================] - ETA: 0s - loss: 0.1227 - acc: 0.9554\n",
            "Epoch 11: val_acc did not improve from 0.92992\n",
            "43/43 [==============================] - 107s 2s/step - loss: 0.1227 - acc: 0.9554 - val_loss: 0.4181 - val_acc: 0.8628\n",
            "Epoch 12/20\n",
            "43/43 [==============================] - ETA: 0s - loss: 0.0978 - acc: 0.9658\n",
            "Epoch 12: val_acc did not improve from 0.92992\n",
            "43/43 [==============================] - 107s 2s/step - loss: 0.0978 - acc: 0.9658 - val_loss: 0.5627 - val_acc: 0.7875\n",
            "Epoch 13/20\n",
            "43/43 [==============================] - ETA: 0s - loss: 0.0973 - acc: 0.9644\n",
            "Epoch 13: val_acc did not improve from 0.92992\n",
            "43/43 [==============================] - 106s 2s/step - loss: 0.0973 - acc: 0.9644 - val_loss: 0.2775 - val_acc: 0.9035\n",
            "Epoch 14/20\n",
            "43/43 [==============================] - ETA: 0s - loss: 0.0546 - acc: 0.9785\n",
            "Epoch 14: val_acc did not improve from 0.92992\n",
            "43/43 [==============================] - 107s 2s/step - loss: 0.0546 - acc: 0.9785 - val_loss: 0.2495 - val_acc: 0.9133\n",
            "Epoch 15/20\n",
            "43/43 [==============================] - ETA: 0s - loss: 0.0454 - acc: 0.9851\n",
            "Epoch 15: val_acc did not improve from 0.92992\n",
            "43/43 [==============================] - 106s 2s/step - loss: 0.0454 - acc: 0.9851 - val_loss: 0.2329 - val_acc: 0.9254\n",
            "Epoch 16/20\n",
            "43/43 [==============================] - ETA: 0s - loss: 0.0520 - acc: 0.9811\n",
            "Epoch 16: val_acc did not improve from 0.92992\n",
            "43/43 [==============================] - 108s 3s/step - loss: 0.0520 - acc: 0.9811 - val_loss: 0.4718 - val_acc: 0.8169\n",
            "Epoch 17/20\n",
            "43/43 [==============================] - ETA: 0s - loss: 0.0569 - acc: 0.9773\n",
            "Epoch 17: val_acc did not improve from 0.92992\n",
            "43/43 [==============================] - 107s 2s/step - loss: 0.0569 - acc: 0.9773 - val_loss: 0.2682 - val_acc: 0.9292\n",
            "Epoch 18/20\n",
            "43/43 [==============================] - ETA: 0s - loss: 0.0207 - acc: 0.9922\n",
            "Epoch 18: val_acc did not improve from 0.92992\n",
            "43/43 [==============================] - 107s 2s/step - loss: 0.0207 - acc: 0.9922 - val_loss: 0.3619 - val_acc: 0.9073\n",
            "Epoch 19/20\n",
            "43/43 [==============================] - ETA: 0s - loss: 0.0182 - acc: 0.9948\n",
            "Epoch 19: val_acc did not improve from 0.92992\n",
            "43/43 [==============================] - 107s 2s/step - loss: 0.0182 - acc: 0.9948 - val_loss: 0.2916 - val_acc: 0.9186\n",
            "Epoch 20/20\n",
            "43/43 [==============================] - ETA: 0s - loss: 0.0196 - acc: 0.9937\n",
            "Epoch 20: val_acc did not improve from 0.92992\n",
            "43/43 [==============================] - 106s 2s/step - loss: 0.0196 - acc: 0.9937 - val_loss: 0.3128 - val_acc: 0.9171\n",
            "Epoch 1/20\n",
            "43/43 [==============================] - ETA: 0s - loss: 0.4069 - acc: 0.8745\n",
            "Epoch 1: val_acc improved from -inf to 0.85682, saving model to best_model2.h5\n",
            "43/43 [==============================] - 109s 3s/step - loss: 0.4069 - acc: 0.8745 - val_loss: 0.6139 - val_acc: 0.8568\n",
            "Epoch 2/20\n",
            "43/43 [==============================] - ETA: 0s - loss: 0.2617 - acc: 0.9087\n",
            "Epoch 2: val_acc did not improve from 0.85682\n",
            "43/43 [==============================] - 108s 3s/step - loss: 0.2617 - acc: 0.9087 - val_loss: 1.6481 - val_acc: 0.6933\n",
            "Epoch 3/20\n",
            "43/43 [==============================] - ETA: 0s - loss: 0.2073 - acc: 0.9306\n",
            "Epoch 3: val_acc improved from 0.85682 to 0.86812, saving model to best_model2.h5\n",
            "43/43 [==============================] - 108s 3s/step - loss: 0.2073 - acc: 0.9306 - val_loss: 0.4874 - val_acc: 0.8681\n",
            "Epoch 4/20\n",
            "43/43 [==============================] - ETA: 0s - loss: 0.1503 - acc: 0.9488\n",
            "Epoch 4: val_acc improved from 0.86812 to 0.89525, saving model to best_model2.h5\n",
            "43/43 [==============================] - 109s 3s/step - loss: 0.1503 - acc: 0.9488 - val_loss: 0.3649 - val_acc: 0.8953\n",
            "Epoch 5/20\n",
            "43/43 [==============================] - ETA: 0s - loss: 0.1439 - acc: 0.9532\n",
            "Epoch 5: val_acc did not improve from 0.89525\n",
            "43/43 [==============================] - 108s 3s/step - loss: 0.1439 - acc: 0.9532 - val_loss: 0.3075 - val_acc: 0.8500\n",
            "Epoch 6/20\n",
            "43/43 [==============================] - ETA: 0s - loss: 0.1442 - acc: 0.9476\n",
            "Epoch 6: val_acc improved from 0.89525 to 0.91032, saving model to best_model2.h5\n",
            "43/43 [==============================] - 109s 3s/step - loss: 0.1442 - acc: 0.9476 - val_loss: 0.3330 - val_acc: 0.9103\n",
            "Epoch 7/20\n",
            "43/43 [==============================] - ETA: 0s - loss: 0.1266 - acc: 0.9543\n",
            "Epoch 7: val_acc improved from 0.91032 to 0.91786, saving model to best_model2.h5\n",
            "43/43 [==============================] - 109s 3s/step - loss: 0.1266 - acc: 0.9543 - val_loss: 0.3134 - val_acc: 0.9179\n",
            "Epoch 8/20\n",
            "43/43 [==============================] - ETA: 0s - loss: 0.1235 - acc: 0.9558\n",
            "Epoch 8: val_acc improved from 0.91786 to 0.93218, saving model to best_model2.h5\n",
            "43/43 [==============================] - 108s 3s/step - loss: 0.1235 - acc: 0.9558 - val_loss: 0.2218 - val_acc: 0.9322\n",
            "Epoch 9/20\n",
            "43/43 [==============================] - ETA: 0s - loss: 0.0922 - acc: 0.9658\n",
            "Epoch 9: val_acc did not improve from 0.93218\n",
            "43/43 [==============================] - 109s 3s/step - loss: 0.0922 - acc: 0.9658 - val_loss: 0.2601 - val_acc: 0.9194\n",
            "Epoch 10/20\n",
            "43/43 [==============================] - ETA: 0s - loss: 0.1086 - acc: 0.9592\n",
            "Epoch 10: val_acc did not improve from 0.93218\n",
            "43/43 [==============================] - 108s 3s/step - loss: 0.1086 - acc: 0.9592 - val_loss: 0.2112 - val_acc: 0.9299\n",
            "Epoch 11/20\n",
            "43/43 [==============================] - ETA: 0s - loss: 0.0767 - acc: 0.9718\n",
            "Epoch 11: val_acc did not improve from 0.93218\n",
            "43/43 [==============================] - 108s 3s/step - loss: 0.0767 - acc: 0.9718 - val_loss: 0.6117 - val_acc: 0.7219\n",
            "Epoch 12/20\n",
            "43/43 [==============================] - ETA: 0s - loss: 0.0646 - acc: 0.9770\n",
            "Epoch 12: val_acc did not improve from 0.93218\n",
            "43/43 [==============================] - 107s 2s/step - loss: 0.0646 - acc: 0.9770 - val_loss: 1.2483 - val_acc: 0.5968\n",
            "Epoch 13/20\n",
            "43/43 [==============================] - ETA: 0s - loss: 0.0998 - acc: 0.9610\n",
            "Epoch 13: val_acc did not improve from 0.93218\n",
            "43/43 [==============================] - 107s 2s/step - loss: 0.0998 - acc: 0.9610 - val_loss: 0.2164 - val_acc: 0.9239\n",
            "Epoch 14/20\n",
            "43/43 [==============================] - ETA: 0s - loss: 0.0538 - acc: 0.9848\n",
            "Epoch 14: val_acc did not improve from 0.93218\n",
            "43/43 [==============================] - 107s 2s/step - loss: 0.0538 - acc: 0.9848 - val_loss: 0.2258 - val_acc: 0.9292\n",
            "Epoch 15/20\n",
            "43/43 [==============================] - ETA: 0s - loss: 0.0354 - acc: 0.9903\n",
            "Epoch 15: val_acc did not improve from 0.93218\n",
            "43/43 [==============================] - 106s 2s/step - loss: 0.0354 - acc: 0.9903 - val_loss: 0.3066 - val_acc: 0.9299\n",
            "Epoch 16/20\n",
            "43/43 [==============================] - ETA: 0s - loss: 0.0277 - acc: 0.9907\n",
            "Epoch 16: val_acc improved from 0.93218 to 0.93369, saving model to best_model2.h5\n",
            "43/43 [==============================] - 107s 2s/step - loss: 0.0277 - acc: 0.9907 - val_loss: 0.2590 - val_acc: 0.9337\n",
            "Epoch 17/20\n",
            "43/43 [==============================] - ETA: 0s - loss: 0.0266 - acc: 0.9926\n",
            "Epoch 17: val_acc did not improve from 0.93369\n",
            "43/43 [==============================] - 108s 3s/step - loss: 0.0266 - acc: 0.9926 - val_loss: 0.2710 - val_acc: 0.9322\n",
            "Epoch 18/20\n",
            "43/43 [==============================] - ETA: 0s - loss: 0.0259 - acc: 0.9915\n",
            "Epoch 18: val_acc did not improve from 0.93369\n",
            "43/43 [==============================] - 106s 2s/step - loss: 0.0259 - acc: 0.9915 - val_loss: 0.2903 - val_acc: 0.9307\n",
            "Epoch 19/20\n",
            "43/43 [==============================] - ETA: 0s - loss: 0.0130 - acc: 0.9974\n",
            "Epoch 19: val_acc did not improve from 0.93369\n",
            "43/43 [==============================] - 106s 2s/step - loss: 0.0130 - acc: 0.9974 - val_loss: 0.2960 - val_acc: 0.9299\n",
            "Epoch 20/20\n",
            "43/43 [==============================] - ETA: 0s - loss: 0.0141 - acc: 0.9970\n",
            "Epoch 20: val_acc did not improve from 0.93369\n",
            "43/43 [==============================] - 106s 2s/step - loss: 0.0141 - acc: 0.9970 - val_loss: 0.3059 - val_acc: 0.9292\n",
            "Epoch 1/20\n",
            "43/43 [==============================] - ETA: 0s - loss: 0.4252 - acc: 0.8815\n",
            "Epoch 1: val_acc improved from -inf to 0.86360, saving model to best_model3.h5\n",
            "43/43 [==============================] - 109s 3s/step - loss: 0.4252 - acc: 0.8815 - val_loss: 2.0216 - val_acc: 0.8636\n",
            "Epoch 2/20\n",
            "43/43 [==============================] - ETA: 0s - loss: 0.2539 - acc: 0.9187\n",
            "Epoch 2: val_acc improved from 0.86360 to 0.89902, saving model to best_model3.h5\n",
            "43/43 [==============================] - 107s 2s/step - loss: 0.2539 - acc: 0.9187 - val_loss: 0.8549 - val_acc: 0.8990\n",
            "Epoch 3/20\n",
            "43/43 [==============================] - ETA: 0s - loss: 0.2239 - acc: 0.9239\n",
            "Epoch 3: val_acc improved from 0.89902 to 0.93293, saving model to best_model3.h5\n",
            "43/43 [==============================] - 107s 2s/step - loss: 0.2239 - acc: 0.9239 - val_loss: 0.2856 - val_acc: 0.9329\n",
            "Epoch 4/20\n",
            "43/43 [==============================] - ETA: 0s - loss: 0.2017 - acc: 0.9306\n",
            "Epoch 4: val_acc did not improve from 0.93293\n",
            "43/43 [==============================] - 108s 3s/step - loss: 0.2017 - acc: 0.9306 - val_loss: 0.3320 - val_acc: 0.9209\n",
            "Epoch 5/20\n",
            "43/43 [==============================] - ETA: 0s - loss: 0.1911 - acc: 0.9361\n",
            "Epoch 5: val_acc did not improve from 0.93293\n",
            "43/43 [==============================] - 107s 2s/step - loss: 0.1911 - acc: 0.9361 - val_loss: 0.9816 - val_acc: 0.7144\n",
            "Epoch 6/20\n",
            "43/43 [==============================] - ETA: 0s - loss: 0.1589 - acc: 0.9447\n",
            "Epoch 6: val_acc did not improve from 0.93293\n",
            "43/43 [==============================] - 107s 2s/step - loss: 0.1589 - acc: 0.9447 - val_loss: 0.2133 - val_acc: 0.9322\n",
            "Epoch 7/20\n",
            "43/43 [==============================] - ETA: 0s - loss: 0.1593 - acc: 0.9480\n",
            "Epoch 7: val_acc did not improve from 0.93293\n",
            "43/43 [==============================] - 108s 3s/step - loss: 0.1593 - acc: 0.9480 - val_loss: 0.2497 - val_acc: 0.9292\n",
            "Epoch 8/20\n",
            "43/43 [==============================] - ETA: 0s - loss: 0.1221 - acc: 0.9584\n",
            "Epoch 8: val_acc did not improve from 0.93293\n",
            "43/43 [==============================] - 108s 3s/step - loss: 0.1221 - acc: 0.9584 - val_loss: 0.3682 - val_acc: 0.8900\n",
            "Epoch 9/20\n",
            "43/43 [==============================] - ETA: 0s - loss: 0.0870 - acc: 0.9677\n",
            "Epoch 9: val_acc did not improve from 0.93293\n",
            "43/43 [==============================] - 107s 2s/step - loss: 0.0870 - acc: 0.9677 - val_loss: 0.3131 - val_acc: 0.9035\n",
            "Epoch 10/20\n",
            "43/43 [==============================] - ETA: 0s - loss: 0.0828 - acc: 0.9699\n",
            "Epoch 10: val_acc did not improve from 0.93293\n",
            "43/43 [==============================] - 107s 2s/step - loss: 0.0828 - acc: 0.9699 - val_loss: 1.4035 - val_acc: 0.6029\n",
            "Epoch 11/20\n",
            "43/43 [==============================] - ETA: 0s - loss: 0.0674 - acc: 0.9796\n",
            "Epoch 11: val_acc did not improve from 0.93293\n",
            "43/43 [==============================] - 107s 2s/step - loss: 0.0674 - acc: 0.9796 - val_loss: 0.3103 - val_acc: 0.9314\n",
            "Epoch 12/20\n",
            "43/43 [==============================] - ETA: 0s - loss: 0.0523 - acc: 0.9818\n",
            "Epoch 12: val_acc did not improve from 0.93293\n",
            "43/43 [==============================] - 108s 3s/step - loss: 0.0523 - acc: 0.9818 - val_loss: 0.5874 - val_acc: 0.8018\n",
            "Epoch 13/20\n",
            "43/43 [==============================] - ETA: 0s - loss: 0.0365 - acc: 0.9877\n",
            "Epoch 13: val_acc did not improve from 0.93293\n",
            "43/43 [==============================] - 108s 3s/step - loss: 0.0365 - acc: 0.9877 - val_loss: 0.4184 - val_acc: 0.9246\n",
            "Epoch 14/20\n",
            "43/43 [==============================] - ETA: 0s - loss: 0.0296 - acc: 0.9892\n",
            "Epoch 14: val_acc did not improve from 0.93293\n",
            "43/43 [==============================] - 108s 3s/step - loss: 0.0296 - acc: 0.9892 - val_loss: 0.6985 - val_acc: 0.9277\n",
            "Epoch 15/20\n",
            "43/43 [==============================] - ETA: 0s - loss: 0.0367 - acc: 0.9900\n",
            "Epoch 15: val_acc did not improve from 0.93293\n",
            "43/43 [==============================] - 108s 3s/step - loss: 0.0367 - acc: 0.9900 - val_loss: 0.4467 - val_acc: 0.9224\n",
            "Epoch 16/20\n",
            "43/43 [==============================] - ETA: 0s - loss: 0.0350 - acc: 0.9885\n",
            "Epoch 16: val_acc did not improve from 0.93293\n",
            "43/43 [==============================] - 108s 3s/step - loss: 0.0350 - acc: 0.9885 - val_loss: 0.4862 - val_acc: 0.9284\n",
            "Epoch 17/20\n",
            "43/43 [==============================] - ETA: 0s - loss: 0.0215 - acc: 0.9937\n",
            "Epoch 17: val_acc did not improve from 0.93293\n",
            "43/43 [==============================] - 107s 2s/step - loss: 0.0215 - acc: 0.9937 - val_loss: 0.4439 - val_acc: 0.9269\n",
            "Epoch 18/20\n",
            "43/43 [==============================] - ETA: 0s - loss: 0.0226 - acc: 0.9929\n",
            "Epoch 18: val_acc did not improve from 0.93293\n",
            "43/43 [==============================] - 107s 2s/step - loss: 0.0226 - acc: 0.9929 - val_loss: 0.5538 - val_acc: 0.8915\n",
            "Epoch 19/20\n",
            "43/43 [==============================] - ETA: 0s - loss: 0.0189 - acc: 0.9929\n",
            "Epoch 19: val_acc did not improve from 0.93293\n",
            "43/43 [==============================] - 107s 2s/step - loss: 0.0189 - acc: 0.9929 - val_loss: 0.5786 - val_acc: 0.9322\n",
            "Epoch 20/20\n",
            "43/43 [==============================] - ETA: 0s - loss: 0.0161 - acc: 0.9944\n",
            "Epoch 20: val_acc did not improve from 0.93293\n",
            "43/43 [==============================] - 106s 2s/step - loss: 0.0161 - acc: 0.9944 - val_loss: 0.7349 - val_acc: 0.9292\n"
          ]
        }
      ]
    },
    {
      "cell_type": "code",
      "source": [
        "# Plot training accuracy\n",
        "plt.plot(history1.history['acc'])\n",
        "plt.plot(history2.history['acc'])\n",
        "plt.plot(history3.history['acc'])\n",
        "plt.title('training accuracy')\n",
        "plt.ylabel('training accuracy')\n",
        "plt.xlabel('epoch')\n",
        "plt.legend(['Adam', 'SGD', 'RMSprop'], loc = 'upper left')\n",
        "plt.show()\n",
        "\n",
        "# Plot validation accuracy\n",
        "plt.plot(history1.history['val_acc'])\n",
        "plt.plot(history2.history['val_acc'])\n",
        "plt.plot(history3.history['val_acc'])\n",
        "plt.title('validation accuracy')\n",
        "plt.ylabel('validation accuracy')\n",
        "plt.xlabel('epoch')\n",
        "plt.legend(['Adam', 'SGD', 'RMSprop'], loc = 'upper left')\n",
        "plt.show()"
      ],
      "metadata": {
        "id": "lebpGgMaFV4p",
        "colab": {
          "base_uri": "https://localhost:8080/",
          "height": 573
        },
        "outputId": "4fd9af00-114d-4426-8b08-e750f0df7415"
      },
      "execution_count": 36,
      "outputs": [
        {
          "output_type": "display_data",
          "data": {
            "image/png": "[encoded data removed]",
            "text/plain": [
              "<Figure size 432x288 with 1 Axes>"
            ]
          },
          "metadata": {
            "needs_background": "light"
          }
        },
        {
          "output_type": "display_data",
          "data": {
            "image/png": "[encoded data removed]",
            "text/plain": [
              "<Figure size 432x288 with 1 Axes>"
            ]
          },
          "metadata": {
            "needs_background": "light"
          }
        }
      ]
    },
    {
      "cell_type": "markdown",
      "source": [
        "## Batch Size"
      ],
      "metadata": {
        "id": "zYxUlC_kd5o-"
      }
    },
    {
      "cell_type": "code",
      "source": [
        "model4 = make_CNN(input_shape=(20, 20, 20, 2))\n",
        "model5 = make_CNN(input_shape=(20, 20, 20, 2))\n",
        "model6 = make_CNN(input_shape=(20, 20, 20, 2))\n",
        "model7 = make_CNN(input_shape=(20, 20, 20, 2))\n",
        "\n",
        "model4.compile(\n",
        "    loss='binary_crossentropy',\n",
        "    metrics=['acc'],\n",
        "    optimizer='Adam'\n",
        ")\n",
        "\n",
        "model5.compile(\n",
        "    loss='binary_crossentropy',\n",
        "    metrics=['acc'],\n",
        "    optimizer='Adam'\n",
        ")\n",
        "\n",
        "model6.compile(\n",
        "    loss='binary_crossentropy',\n",
        "    metrics=['acc'],\n",
        "    optimizer='Adam'\n",
        ")\n",
        "\n",
        "model7.compile(\n",
        "    loss='binary_crossentropy',\n",
        "    metrics=['acc'],\n",
        "    optimizer='Adam'\n",
        ")\n",
        "\n",
        "# create a callback that will save the best model while training\n",
        "save_best_model4 = ModelCheckpoint('best_model4.h5', monitor='val_acc', mode='max', save_best_only = True, verbose = 2)\n",
        "save_best_model5 = ModelCheckpoint('best_model5.h5', monitor='val_acc', mode='max', save_best_only = True, verbose = 2)\n",
        "save_best_model6 = ModelCheckpoint('best_model6.h5', monitor='val_acc', mode='max', save_best_only = True, verbose = 2)\n",
        "save_best_model7 = ModelCheckpoint('best_model7.h5', monitor='val_acc', mode='max', save_best_only = True, verbose = 2)\n",
        "\n",
        "history4 = model4.fit(train_X, train_y, batch_size = 32, epochs = 10, validation_data = (val_X, val_y), shuffle = True, callbacks = [save_best_model4])\n",
        "history5 = model5.fit(train_X, train_y, batch_size = 64, epochs = 10, validation_data = (val_X, val_y), shuffle = True, callbacks = [save_best_model5])\n",
        "history6 = model6.fit(train_X, train_y, batch_size = 128, epochs = 10, validation_data = (val_X, val_y), shuffle = True, callbacks = [save_best_model6])\n",
        "history7 = model7.fit(train_X, train_y, batch_size = 256, epochs = 10, validation_data = (val_X, val_y), shuffle = True, callbacks = [save_best_model7])"
      ],
      "metadata": {
        "colab": {
          "base_uri": "https://localhost:8080/"
        },
        "id": "VQRYoNRpd8Pi",
        "outputId": "ca9388bd-a8e5-40cc-d80c-057e29072bc8"
      },
      "execution_count": 16,
      "outputs": [
        {
          "output_type": "stream",
          "name": "stdout",
          "text": [
            "Epoch 1/10\n",
            "85/85 [==============================] - ETA: 0s - loss: 0.3441 - acc: 0.8983\n",
            "Epoch 1: val_acc improved from -inf to 0.72344, saving model to best_model4.h5\n",
            "85/85 [==============================] - 110s 1s/step - loss: 0.3441 - acc: 0.8983 - val_loss: 1.0462 - val_acc: 0.7234\n",
            "Epoch 2/10\n",
            "85/85 [==============================] - ETA: 0s - loss: 0.2056 - acc: 0.9320\n",
            "Epoch 2: val_acc improved from 0.72344 to 0.90957, saving model to best_model4.h5\n",
            "85/85 [==============================] - 110s 1s/step - loss: 0.2056 - acc: 0.9320 - val_loss: 0.2432 - val_acc: 0.9096\n",
            "Epoch 3/10\n",
            "85/85 [==============================] - ETA: 0s - loss: 0.1760 - acc: 0.9424\n",
            "Epoch 3: val_acc improved from 0.90957 to 0.92690, saving model to best_model4.h5\n",
            "85/85 [==============================] - 110s 1s/step - loss: 0.1760 - acc: 0.9424 - val_loss: 0.2125 - val_acc: 0.9269\n",
            "Epoch 4/10\n",
            "85/85 [==============================] - ETA: 0s - loss: 0.1659 - acc: 0.9491\n",
            "Epoch 4: val_acc improved from 0.92690 to 0.93293, saving model to best_model4.h5\n",
            "85/85 [==============================] - 110s 1s/step - loss: 0.1659 - acc: 0.9491 - val_loss: 0.1860 - val_acc: 0.9329\n",
            "Epoch 5/10\n",
            "85/85 [==============================] - ETA: 0s - loss: 0.1496 - acc: 0.9480\n",
            "Epoch 5: val_acc did not improve from 0.93293\n",
            "85/85 [==============================] - 110s 1s/step - loss: 0.1496 - acc: 0.9480 - val_loss: 0.2591 - val_acc: 0.9156\n",
            "Epoch 6/10\n",
            "85/85 [==============================] - ETA: 0s - loss: 0.1583 - acc: 0.9465\n",
            "Epoch 6: val_acc did not improve from 0.93293\n",
            "85/85 [==============================] - 109s 1s/step - loss: 0.1583 - acc: 0.9465 - val_loss: 0.2225 - val_acc: 0.9314\n",
            "Epoch 7/10\n",
            "85/85 [==============================] - ETA: 0s - loss: 0.1311 - acc: 0.9580\n",
            "Epoch 7: val_acc did not improve from 0.93293\n",
            "85/85 [==============================] - 109s 1s/step - loss: 0.1311 - acc: 0.9580 - val_loss: 0.2022 - val_acc: 0.9299\n",
            "Epoch 8/10\n",
            "85/85 [==============================] - ETA: 0s - loss: 0.1228 - acc: 0.9614\n",
            "Epoch 8: val_acc improved from 0.93293 to 0.93896, saving model to best_model4.h5\n",
            "85/85 [==============================] - 109s 1s/step - loss: 0.1228 - acc: 0.9614 - val_loss: 0.2047 - val_acc: 0.9390\n",
            "Epoch 9/10\n",
            "85/85 [==============================] - ETA: 0s - loss: 0.0937 - acc: 0.9688\n",
            "Epoch 9: val_acc did not improve from 0.93896\n",
            "85/85 [==============================] - 109s 1s/step - loss: 0.0937 - acc: 0.9688 - val_loss: 0.2508 - val_acc: 0.9224\n",
            "Epoch 10/10\n",
            "85/85 [==============================] - ETA: 0s - loss: 0.1003 - acc: 0.9651\n",
            "Epoch 10: val_acc did not improve from 0.93896\n",
            "85/85 [==============================] - 108s 1s/step - loss: 0.1003 - acc: 0.9651 - val_loss: 0.2155 - val_acc: 0.9292\n",
            "Epoch 1/10\n",
            "43/43 [==============================] - ETA: 0s - loss: 0.3196 - acc: 0.8897\n",
            "Epoch 1: val_acc improved from -inf to 0.88772, saving model to best_model5.h5\n",
            "43/43 [==============================] - 106s 2s/step - loss: 0.3196 - acc: 0.8897 - val_loss: 0.6352 - val_acc: 0.8877\n",
            "Epoch 2/10\n",
            "43/43 [==============================] - ETA: 0s - loss: 0.1889 - acc: 0.9361\n",
            "Epoch 2: val_acc improved from 0.88772 to 0.93218, saving model to best_model5.h5\n",
            "43/43 [==============================] - 105s 2s/step - loss: 0.1889 - acc: 0.9361 - val_loss: 0.2970 - val_acc: 0.9322\n",
            "Epoch 3/10\n",
            "43/43 [==============================] - ETA: 0s - loss: 0.1866 - acc: 0.9350\n",
            "Epoch 3: val_acc did not improve from 0.93218\n",
            "43/43 [==============================] - 105s 2s/step - loss: 0.1866 - acc: 0.9350 - val_loss: 0.5100 - val_acc: 0.9103\n",
            "Epoch 4/10\n",
            "43/43 [==============================] - ETA: 0s - loss: 0.2203 - acc: 0.9194\n",
            "Epoch 4: val_acc did not improve from 0.93218\n",
            "43/43 [==============================] - 105s 2s/step - loss: 0.2203 - acc: 0.9194 - val_loss: 0.2549 - val_acc: 0.9209\n",
            "Epoch 5/10\n",
            "43/43 [==============================] - ETA: 0s - loss: 0.1930 - acc: 0.9391\n",
            "Epoch 5: val_acc did not improve from 0.93218\n",
            "43/43 [==============================] - 105s 2s/step - loss: 0.1930 - acc: 0.9391 - val_loss: 0.2623 - val_acc: 0.9164\n",
            "Epoch 6/10\n",
            "43/43 [==============================] - ETA: 0s - loss: 0.1591 - acc: 0.9488\n",
            "Epoch 6: val_acc did not improve from 0.93218\n",
            "43/43 [==============================] - 104s 2s/step - loss: 0.1591 - acc: 0.9488 - val_loss: 0.2045 - val_acc: 0.9322\n",
            "Epoch 7/10\n",
            "43/43 [==============================] - ETA: 0s - loss: 0.1341 - acc: 0.9592\n",
            "Epoch 7: val_acc did not improve from 0.93218\n",
            "43/43 [==============================] - 105s 2s/step - loss: 0.1341 - acc: 0.9592 - val_loss: 0.2068 - val_acc: 0.9246\n",
            "Epoch 8/10\n",
            "43/43 [==============================] - ETA: 0s - loss: 0.1383 - acc: 0.9577\n",
            "Epoch 8: val_acc improved from 0.93218 to 0.93670, saving model to best_model5.h5\n",
            "43/43 [==============================] - 105s 2s/step - loss: 0.1383 - acc: 0.9577 - val_loss: 0.2442 - val_acc: 0.9367\n",
            "Epoch 9/10\n",
            "43/43 [==============================] - ETA: 0s - loss: 0.1249 - acc: 0.9580\n",
            "Epoch 9: val_acc did not improve from 0.93670\n",
            "43/43 [==============================] - 105s 2s/step - loss: 0.1249 - acc: 0.9580 - val_loss: 0.2066 - val_acc: 0.9314\n",
            "Epoch 10/10\n",
            "43/43 [==============================] - ETA: 0s - loss: 0.1038 - acc: 0.9658\n",
            "Epoch 10: val_acc did not improve from 0.93670\n",
            "43/43 [==============================] - 105s 2s/step - loss: 0.1038 - acc: 0.9658 - val_loss: 0.2316 - val_acc: 0.9261\n",
            "Epoch 1/10\n",
            "22/22 [==============================] - ETA: 0s - loss: 0.3494 - acc: 0.8856\n",
            "Epoch 1: val_acc improved from -inf to 0.78071, saving model to best_model6.h5\n",
            "22/22 [==============================] - 103s 5s/step - loss: 0.3494 - acc: 0.8856 - val_loss: 3.5688 - val_acc: 0.7807\n",
            "Epoch 2/10\n",
            "22/22 [==============================] - ETA: 0s - loss: 0.1862 - acc: 0.9421\n",
            "Epoch 2: val_acc improved from 0.78071 to 0.88696, saving model to best_model6.h5\n",
            "22/22 [==============================] - 101s 5s/step - loss: 0.1862 - acc: 0.9421 - val_loss: 1.1875 - val_acc: 0.8870\n",
            "Epoch 3/10\n",
            "22/22 [==============================] - ETA: 0s - loss: 0.1638 - acc: 0.9443\n",
            "Epoch 3: val_acc improved from 0.88696 to 0.92464, saving model to best_model6.h5\n",
            "22/22 [==============================] - 101s 5s/step - loss: 0.1638 - acc: 0.9443 - val_loss: 0.3686 - val_acc: 0.9246\n",
            "Epoch 4/10\n",
            "22/22 [==============================] - ETA: 0s - loss: 0.1384 - acc: 0.9543\n",
            "Epoch 4: val_acc did not improve from 0.92464\n",
            "22/22 [==============================] - 102s 5s/step - loss: 0.1384 - acc: 0.9543 - val_loss: 0.2946 - val_acc: 0.9043\n",
            "Epoch 5/10\n",
            "22/22 [==============================] - ETA: 0s - loss: 0.2014 - acc: 0.9380\n",
            "Epoch 5: val_acc did not improve from 0.92464\n",
            "22/22 [==============================] - 101s 5s/step - loss: 0.2014 - acc: 0.9380 - val_loss: 0.2739 - val_acc: 0.9126\n",
            "Epoch 6/10\n",
            "22/22 [==============================] - ETA: 0s - loss: 0.1586 - acc: 0.9484\n",
            "Epoch 6: val_acc improved from 0.92464 to 0.93369, saving model to best_model6.h5\n",
            "22/22 [==============================] - 101s 5s/step - loss: 0.1586 - acc: 0.9484 - val_loss: 0.2676 - val_acc: 0.9337\n",
            "Epoch 7/10\n",
            "22/22 [==============================] - ETA: 0s - loss: 0.1185 - acc: 0.9647\n",
            "Epoch 7: val_acc improved from 0.93369 to 0.93595, saving model to best_model6.h5\n",
            "22/22 [==============================] - 101s 5s/step - loss: 0.1185 - acc: 0.9647 - val_loss: 0.2292 - val_acc: 0.9359\n",
            "Epoch 8/10\n",
            "22/22 [==============================] - ETA: 0s - loss: 0.1028 - acc: 0.9688\n",
            "Epoch 8: val_acc did not improve from 0.93595\n",
            "22/22 [==============================] - 101s 5s/step - loss: 0.1028 - acc: 0.9688 - val_loss: 0.1954 - val_acc: 0.9359\n",
            "Epoch 9/10\n",
            "22/22 [==============================] - ETA: 0s - loss: 0.0761 - acc: 0.9759\n",
            "Epoch 9: val_acc did not improve from 0.93595\n",
            "22/22 [==============================] - 101s 5s/step - loss: 0.0761 - acc: 0.9759 - val_loss: 0.2305 - val_acc: 0.9141\n",
            "Epoch 10/10\n",
            "22/22 [==============================] - ETA: 0s - loss: 0.1651 - acc: 0.9424\n",
            "Epoch 10: val_acc did not improve from 0.93595\n",
            "22/22 [==============================] - 101s 5s/step - loss: 0.1651 - acc: 0.9424 - val_loss: 0.4188 - val_acc: 0.9171\n",
            "Epoch 1/10\n",
            "11/11 [==============================] - ETA: 0s - loss: 0.4096 - acc: 0.8693\n",
            "Epoch 1: val_acc improved from -inf to 0.50716, saving model to best_model7.h5\n",
            "11/11 [==============================] - 100s 9s/step - loss: 0.4096 - acc: 0.8693 - val_loss: 45.1882 - val_acc: 0.5072\n",
            "Epoch 2/10\n",
            "11/11 [==============================] - ETA: 0s - loss: 0.1889 - acc: 0.9384\n",
            "Epoch 2: val_acc improved from 0.50716 to 0.51093, saving model to best_model7.h5\n",
            "11/11 [==============================] - 99s 9s/step - loss: 0.1889 - acc: 0.9384 - val_loss: 13.4993 - val_acc: 0.5109\n",
            "Epoch 3/10\n",
            "11/11 [==============================] - ETA: 0s - loss: 0.1505 - acc: 0.9506\n",
            "Epoch 3: val_acc improved from 0.51093 to 0.67445, saving model to best_model7.h5\n",
            "11/11 [==============================] - 99s 9s/step - loss: 0.1505 - acc: 0.9506 - val_loss: 4.7523 - val_acc: 0.6745\n",
            "Epoch 4/10\n",
            "11/11 [==============================] - ETA: 0s - loss: 0.1343 - acc: 0.9566\n",
            "Epoch 4: val_acc did not improve from 0.67445\n",
            "11/11 [==============================] - 99s 9s/step - loss: 0.1343 - acc: 0.9566 - val_loss: 4.2194 - val_acc: 0.6714\n",
            "Epoch 5/10\n",
            "11/11 [==============================] - ETA: 0s - loss: 0.1110 - acc: 0.9629\n",
            "Epoch 5: val_acc improved from 0.67445 to 0.82668, saving model to best_model7.h5\n",
            "11/11 [==============================] - 99s 9s/step - loss: 0.1110 - acc: 0.9629 - val_loss: 1.7625 - val_acc: 0.8267\n",
            "Epoch 6/10\n",
            "11/11 [==============================] - ETA: 0s - loss: 0.1015 - acc: 0.9655\n",
            "Epoch 6: val_acc did not improve from 0.82668\n",
            "11/11 [==============================] - 98s 9s/step - loss: 0.1015 - acc: 0.9655 - val_loss: 2.7349 - val_acc: 0.7965\n",
            "Epoch 7/10\n",
            "11/11 [==============================] - ETA: 0s - loss: 0.0809 - acc: 0.9710\n",
            "Epoch 7: val_acc improved from 0.82668 to 0.88395, saving model to best_model7.h5\n",
            "11/11 [==============================] - 98s 9s/step - loss: 0.0809 - acc: 0.9710 - val_loss: 1.2262 - val_acc: 0.8839\n",
            "Epoch 8/10\n",
            "11/11 [==============================] - ETA: 0s - loss: 0.0548 - acc: 0.9814\n",
            "Epoch 8: val_acc improved from 0.88395 to 0.91635, saving model to best_model7.h5\n",
            "11/11 [==============================] - 98s 9s/step - loss: 0.0548 - acc: 0.9814 - val_loss: 0.6971 - val_acc: 0.9164\n",
            "Epoch 9/10\n",
            "11/11 [==============================] - ETA: 0s - loss: 0.0472 - acc: 0.9840\n",
            "Epoch 9: val_acc did not improve from 0.91635\n",
            "11/11 [==============================] - 98s 9s/step - loss: 0.0472 - acc: 0.9840 - val_loss: 1.2622 - val_acc: 0.8787\n",
            "Epoch 10/10\n",
            "11/11 [==============================] - ETA: 0s - loss: 0.0352 - acc: 0.9866\n",
            "Epoch 10: val_acc improved from 0.91635 to 0.91861, saving model to best_model7.h5\n",
            "11/11 [==============================] - 99s 9s/step - loss: 0.0352 - acc: 0.9866 - val_loss: 0.7691 - val_acc: 0.9186\n"
          ]
        }
      ]
    },
    {
      "cell_type": "code",
      "source": [
        "# Plot training accuracy\n",
        "plt.plot(history4.history['acc'])\n",
        "plt.plot(history5.history['acc'])\n",
        "plt.plot(history6.history['acc'])\n",
        "plt.plot(history7.history['acc'])\n",
        "plt.title('training accuracy')\n",
        "plt.ylabel('training accuracy')\n",
        "plt.xlabel('epoch')\n",
        "plt.legend(['Batch = 32', 'Batch = 64', 'Batch = 128', 'Batch = 256'], loc = 'upper left')\n",
        "plt.show()\n",
        "\n",
        "# Plot validation accuracy\n",
        "plt.plot(history4.history['val_acc'])\n",
        "plt.plot(history5.history['val_acc'])\n",
        "plt.plot(history6.history['val_acc'])\n",
        "plt.plot(history7.history['val_acc'])\n",
        "plt.title('validation accuracy')\n",
        "plt.ylabel('validation accuracy')\n",
        "plt.xlabel('epoch')\n",
        "plt.legend(['Batch = 32', 'Batch = 64', 'Batch = 128', 'Batch = 256'], loc = 'upper left')\n",
        "plt.show()"
      ],
      "metadata": {
        "colab": {
          "base_uri": "https://localhost:8080/",
          "height": 0
        },
        "id": "YMxglRejeyHi",
        "outputId": "e0c3e315-123f-451b-e022-495605d7ad74"
      },
      "execution_count": 17,
      "outputs": [
        {
          "output_type": "display_data",
          "data": {
            "image/png": "[encoded data removed]",
            "text/plain": [
              "<Figure size 432x288 with 1 Axes>"
            ]
          },
          "metadata": {
            "needs_background": "light"
          }
        },
        {
          "output_type": "display_data",
          "data": {
            "image/png": "[encoded data removed]",
            "text/plain": [
              "<Figure size 432x288 with 1 Axes>"
            ]
          },
          "metadata": {
            "needs_background": "light"
          }
        }
      ]
    },
    {
      "cell_type": "markdown",
      "source": [
        "## Learning Rate"
      ],
      "metadata": {
        "id": "rWRkBVtO5y2K"
      }
    },
    {
      "cell_type": "code",
      "source": [
        "model8 = make_CNN(input_shape=(20, 20, 20, 2))\n",
        "model9 = make_CNN(input_shape=(20, 20, 20, 2))\n",
        "model10 = make_CNN(input_shape=(20, 20, 20, 2))\n",
        "\n",
        "model8.compile(\n",
        "    loss='binary_crossentropy',\n",
        "    metrics=['acc'],\n",
        "    optimizer=Adam(learning_rate = 0.01)\n",
        ")\n",
        "\n",
        "model9.compile(\n",
        "    loss='binary_crossentropy',\n",
        "    metrics=['acc'],\n",
        "    optimizer=Adam(learning_rate = 0.001)\n",
        ")\n",
        "\n",
        "model10.compile(\n",
        "    loss='binary_crossentropy',\n",
        "    metrics=['acc'],\n",
        "    optimizer=Adam(learning_rate = 0.0001)\n",
        ")\n",
        "\n",
        "# create a callback that will save the best model while training\n",
        "save_best_model8 = ModelCheckpoint('best_model8.h5', monitor='val_acc', mode='max', save_best_only = True, verbose = 2)\n",
        "save_best_model9 = ModelCheckpoint('best_model9.h5', monitor='val_acc', mode='max', save_best_only = True, verbose = 2)\n",
        "save_best_model10 = ModelCheckpoint('best_model10.h5', monitor='val_acc', mode='max', save_best_only = True, verbose = 2)\n",
        "\n",
        "history8 = model8.fit(train_X, train_y, batch_size = 32, epochs = 10, validation_data = (val_X, val_y), shuffle = True, callbacks = [save_best_model8])\n",
        "history9 = model9.fit(train_X, train_y, batch_size = 32, epochs = 10, validation_data = (val_X, val_y), shuffle = True, callbacks = [save_best_model9])\n",
        "history10 = model10.fit(train_X, train_y, batch_size = 32, epochs = 10, validation_data = (val_X, val_y), shuffle = True, callbacks = [save_best_model10])"
      ],
      "metadata": {
        "colab": {
          "base_uri": "https://localhost:8080/"
        },
        "id": "YIMz_B6B56VI",
        "outputId": "903e2f24-7303-49d3-c20b-b09cda2a318d"
      },
      "execution_count": 18,
      "outputs": [
        {
          "output_type": "stream",
          "name": "stdout",
          "text": [
            "Epoch 1/10\n",
            "85/85 [==============================] - ETA: 0s - loss: 0.4504 - acc: 0.8879\n",
            "Epoch 1: val_acc improved from -inf to 0.69480, saving model to best_model8.h5\n",
            "85/85 [==============================] - 114s 1s/step - loss: 0.4504 - acc: 0.8879 - val_loss: 1.7559 - val_acc: 0.6948\n",
            "Epoch 2/10\n",
            "85/85 [==============================] - ETA: 0s - loss: 0.2286 - acc: 0.9291\n",
            "Epoch 2: val_acc improved from 0.69480 to 0.91937, saving model to best_model8.h5\n",
            "85/85 [==============================] - 112s 1s/step - loss: 0.2286 - acc: 0.9291 - val_loss: 0.2364 - val_acc: 0.9194\n",
            "Epoch 3/10\n",
            "85/85 [==============================] - ETA: 0s - loss: 0.2056 - acc: 0.9369\n",
            "Epoch 3: val_acc improved from 0.91937 to 0.92615, saving model to best_model8.h5\n",
            "85/85 [==============================] - 112s 1s/step - loss: 0.2056 - acc: 0.9369 - val_loss: 0.2144 - val_acc: 0.9261\n",
            "Epoch 4/10\n",
            "85/85 [==============================] - ETA: 0s - loss: 0.1870 - acc: 0.9424\n",
            "Epoch 4: val_acc improved from 0.92615 to 0.93142, saving model to best_model8.h5\n",
            "85/85 [==============================] - 111s 1s/step - loss: 0.1870 - acc: 0.9424 - val_loss: 0.2166 - val_acc: 0.9314\n",
            "Epoch 5/10\n",
            "85/85 [==============================] - ETA: 0s - loss: 0.1925 - acc: 0.9402\n",
            "Epoch 5: val_acc improved from 0.93142 to 0.93519, saving model to best_model8.h5\n",
            "85/85 [==============================] - 112s 1s/step - loss: 0.1925 - acc: 0.9402 - val_loss: 0.1966 - val_acc: 0.9352\n",
            "Epoch 6/10\n",
            "85/85 [==============================] - ETA: 0s - loss: 0.1788 - acc: 0.9413\n",
            "Epoch 6: val_acc did not improve from 0.93519\n",
            "85/85 [==============================] - 112s 1s/step - loss: 0.1788 - acc: 0.9413 - val_loss: 0.1946 - val_acc: 0.9299\n",
            "Epoch 7/10\n",
            "85/85 [==============================] - ETA: 0s - loss: 0.1588 - acc: 0.9506\n",
            "Epoch 7: val_acc did not improve from 0.93519\n",
            "85/85 [==============================] - 111s 1s/step - loss: 0.1588 - acc: 0.9506 - val_loss: 0.2166 - val_acc: 0.9352\n",
            "Epoch 8/10\n",
            "85/85 [==============================] - ETA: 0s - loss: 0.1635 - acc: 0.9488\n",
            "Epoch 8: val_acc did not improve from 0.93519\n",
            "85/85 [==============================] - 111s 1s/step - loss: 0.1635 - acc: 0.9488 - val_loss: 0.2085 - val_acc: 0.9337\n",
            "Epoch 9/10\n",
            "85/85 [==============================] - ETA: 0s - loss: 0.1594 - acc: 0.9499\n",
            "Epoch 9: val_acc did not improve from 0.93519\n",
            "85/85 [==============================] - 110s 1s/step - loss: 0.1594 - acc: 0.9499 - val_loss: 0.2063 - val_acc: 0.9299\n",
            "Epoch 10/10\n",
            "85/85 [==============================] - ETA: 0s - loss: 0.1557 - acc: 0.9521\n",
            "Epoch 10: val_acc did not improve from 0.93519\n",
            "85/85 [==============================] - 107s 1s/step - loss: 0.1557 - acc: 0.9521 - val_loss: 0.2311 - val_acc: 0.9337\n",
            "Epoch 1/10\n",
            "85/85 [==============================] - ETA: 0s - loss: 0.3296 - acc: 0.9057\n",
            "Epoch 1: val_acc improved from -inf to 0.90882, saving model to best_model9.h5\n",
            "85/85 [==============================] - 121s 1s/step - loss: 0.3296 - acc: 0.9057 - val_loss: 0.3532 - val_acc: 0.9088\n",
            "Epoch 2/10\n",
            "85/85 [==============================] - ETA: 0s - loss: 0.2064 - acc: 0.9343\n",
            "Epoch 2: val_acc improved from 0.90882 to 0.92238, saving model to best_model9.h5\n",
            "85/85 [==============================] - 119s 1s/step - loss: 0.2064 - acc: 0.9343 - val_loss: 0.2218 - val_acc: 0.9224\n",
            "Epoch 3/10\n",
            "85/85 [==============================] - ETA: 0s - loss: 0.1877 - acc: 0.9387\n",
            "Epoch 3: val_acc improved from 0.92238 to 0.93067, saving model to best_model9.h5\n",
            "85/85 [==============================] - 118s 1s/step - loss: 0.1877 - acc: 0.9387 - val_loss: 0.2006 - val_acc: 0.9307\n",
            "Epoch 4/10\n",
            "85/85 [==============================] - ETA: 0s - loss: 0.1764 - acc: 0.9447\n",
            "Epoch 4: val_acc improved from 0.93067 to 0.93519, saving model to best_model9.h5\n",
            "85/85 [==============================] - 120s 1s/step - loss: 0.1764 - acc: 0.9447 - val_loss: 0.1893 - val_acc: 0.9352\n",
            "Epoch 5/10\n",
            "85/85 [==============================] - ETA: 0s - loss: 0.1570 - acc: 0.9454\n",
            "Epoch 5: val_acc did not improve from 0.93519\n",
            "85/85 [==============================] - 117s 1s/step - loss: 0.1570 - acc: 0.9454 - val_loss: 0.2242 - val_acc: 0.9299\n",
            "Epoch 6/10\n",
            "85/85 [==============================] - ETA: 0s - loss: 0.1487 - acc: 0.9528\n",
            "Epoch 6: val_acc did not improve from 0.93519\n",
            "85/85 [==============================] - 118s 1s/step - loss: 0.1487 - acc: 0.9528 - val_loss: 0.2153 - val_acc: 0.9344\n",
            "Epoch 7/10\n",
            "85/85 [==============================] - ETA: 0s - loss: 0.1536 - acc: 0.9510\n",
            "Epoch 7: val_acc did not improve from 0.93519\n",
            "85/85 [==============================] - 119s 1s/step - loss: 0.1536 - acc: 0.9510 - val_loss: 0.2120 - val_acc: 0.9322\n",
            "Epoch 8/10\n",
            "85/85 [==============================] - ETA: 0s - loss: 0.1395 - acc: 0.9517\n",
            "Epoch 8: val_acc did not improve from 0.93519\n",
            "85/85 [==============================] - 119s 1s/step - loss: 0.1395 - acc: 0.9517 - val_loss: 0.2025 - val_acc: 0.9329\n",
            "Epoch 9/10\n",
            "85/85 [==============================] - ETA: 0s - loss: 0.1242 - acc: 0.9599\n",
            "Epoch 9: val_acc improved from 0.93519 to 0.93670, saving model to best_model9.h5\n",
            "85/85 [==============================] - 120s 1s/step - loss: 0.1242 - acc: 0.9599 - val_loss: 0.1884 - val_acc: 0.9367\n",
            "Epoch 10/10\n",
            "85/85 [==============================] - ETA: 0s - loss: 0.1053 - acc: 0.9662\n",
            "Epoch 10: val_acc did not improve from 0.93670\n",
            "85/85 [==============================] - 114s 1s/step - loss: 0.1053 - acc: 0.9662 - val_loss: 0.2111 - val_acc: 0.9284\n",
            "Epoch 1/10\n",
            "85/85 [==============================] - ETA: 0s - loss: 0.4623 - acc: 0.8786\n",
            "Epoch 1: val_acc improved from -inf to 0.83572, saving model to best_model10.h5\n",
            "85/85 [==============================] - 123s 1s/step - loss: 0.4623 - acc: 0.8786 - val_loss: 1.0449 - val_acc: 0.8357\n",
            "Epoch 2/10\n",
            "85/85 [==============================] - ETA: 0s - loss: 0.2058 - acc: 0.9350\n",
            "Epoch 2: val_acc improved from 0.83572 to 0.92916, saving model to best_model10.h5\n",
            "85/85 [==============================] - 121s 1s/step - loss: 0.2058 - acc: 0.9350 - val_loss: 0.2554 - val_acc: 0.9292\n",
            "Epoch 3/10\n",
            "85/85 [==============================] - ETA: 0s - loss: 0.1543 - acc: 0.9454\n",
            "Epoch 3: val_acc improved from 0.92916 to 0.93218, saving model to best_model10.h5\n",
            "85/85 [==============================] - 121s 1s/step - loss: 0.1543 - acc: 0.9454 - val_loss: 0.2249 - val_acc: 0.9322\n",
            "Epoch 4/10\n",
            "85/85 [==============================] - ETA: 0s - loss: 0.1239 - acc: 0.9547\n",
            "Epoch 4: val_acc improved from 0.93218 to 0.93369, saving model to best_model10.h5\n",
            "85/85 [==============================] - 121s 1s/step - loss: 0.1239 - acc: 0.9547 - val_loss: 0.1935 - val_acc: 0.9337\n",
            "Epoch 5/10\n",
            "85/85 [==============================] - ETA: 0s - loss: 0.1072 - acc: 0.9595\n",
            "Epoch 5: val_acc did not improve from 0.93369\n",
            "85/85 [==============================] - 121s 1s/step - loss: 0.1072 - acc: 0.9595 - val_loss: 0.2164 - val_acc: 0.9329\n",
            "Epoch 6/10\n",
            "85/85 [==============================] - ETA: 0s - loss: 0.0944 - acc: 0.9677\n",
            "Epoch 6: val_acc did not improve from 0.93369\n",
            "85/85 [==============================] - 120s 1s/step - loss: 0.0944 - acc: 0.9677 - val_loss: 0.2056 - val_acc: 0.9277\n",
            "Epoch 7/10\n",
            "85/85 [==============================] - ETA: 0s - loss: 0.0604 - acc: 0.9799\n",
            "Epoch 7: val_acc improved from 0.93369 to 0.93519, saving model to best_model10.h5\n",
            "85/85 [==============================] - 121s 1s/step - loss: 0.0604 - acc: 0.9799 - val_loss: 0.2133 - val_acc: 0.9352\n",
            "Epoch 8/10\n",
            "85/85 [==============================] - ETA: 0s - loss: 0.0583 - acc: 0.9792\n",
            "Epoch 8: val_acc did not improve from 0.93519\n",
            "85/85 [==============================] - 122s 1s/step - loss: 0.0583 - acc: 0.9792 - val_loss: 0.2321 - val_acc: 0.9329\n",
            "Epoch 9/10\n",
            "85/85 [==============================] - ETA: 0s - loss: 0.0351 - acc: 0.9874\n",
            "Epoch 9: val_acc did not improve from 0.93519\n",
            "85/85 [==============================] - 121s 1s/step - loss: 0.0351 - acc: 0.9874 - val_loss: 0.2865 - val_acc: 0.9337\n",
            "Epoch 10/10\n",
            "85/85 [==============================] - ETA: 0s - loss: 0.0404 - acc: 0.9866\n",
            "Epoch 10: val_acc did not improve from 0.93519\n",
            "85/85 [==============================] - 118s 1s/step - loss: 0.0404 - acc: 0.9866 - val_loss: 0.2652 - val_acc: 0.9216\n"
          ]
        }
      ]
    },
    {
      "cell_type": "code",
      "source": [
        "# Plot training accuracy\n",
        "plt.plot(history8.history['acc'])\n",
        "plt.plot(history9.history['acc'])\n",
        "plt.plot(history10.history['acc'])\n",
        "plt.title('training accuracy')\n",
        "plt.ylabel('training accuracy')\n",
        "plt.xlabel('epoch')\n",
        "plt.legend(['lr = 0.01', 'lr = 0.001', 'lr = 0.0001'], loc = 'upper left')\n",
        "plt.show()\n",
        "\n",
        "# Plot validation accuracy\n",
        "plt.plot(history8.history['val_acc'])\n",
        "plt.plot(history9.history['val_acc'])\n",
        "plt.plot(history10.history['val_acc'])\n",
        "plt.title('validation accuracy')\n",
        "plt.ylabel('validation accuracy')\n",
        "plt.xlabel('epoch')\n",
        "plt.legend(['lr = 0.01', 'lr = 0.001', 'lr = 0.0001'], loc = 'upper left')\n",
        "plt.show()"
      ],
      "metadata": {
        "colab": {
          "base_uri": "https://localhost:8080/",
          "height": 0
        },
        "id": "VSBT89Yl6jRP",
        "outputId": "b105f0fc-43b5-4ec9-e32e-abcfd9387021"
      },
      "execution_count": 19,
      "outputs": [
        {
          "output_type": "display_data",
          "data": {
            "image/png": "[encoded data removed]",
            "text/plain": [
              "<Figure size 432x288 with 1 Axes>"
            ]
          },
          "metadata": {
            "needs_background": "light"
          }
        },
        {
          "output_type": "display_data",
          "data": {
            "image/png": "[encoded data removed]",
            "text/plain": [
              "<Figure size 432x288 with 1 Axes>"
            ]
          },
          "metadata": {
            "needs_background": "light"
          }
        }
      ]
    },
    {
      "cell_type": "markdown",
      "source": [
        "## Best Model Validation"
      ],
      "metadata": {
        "id": "6iDUSUgzadA1"
      }
    },
    {
      "cell_type": "code",
      "source": [
        "best_model = load_model(\"best_model10.h5\")\n",
        "y_pred = best_model.predict(X_test)\n",
        "y_pred"
      ],
      "metadata": {
        "colab": {
          "base_uri": "https://localhost:8080/"
        },
        "id": "3Oc-rua_SL8u",
        "outputId": "8d5ec24c-3f11-47b0-a8c4-a5872331a8c3"
      },
      "execution_count": 37,
      "outputs": [
        {
          "output_type": "execute_result",
          "data": {
            "text/plain": [
              "array([[9.9908090e-01],\n",
              "       [4.0474534e-04],\n",
              "       [2.9971781e-01],\n",
              "       ...,\n",
              "       [1.6009808e-04],\n",
              "       [3.6738013e-05],\n",
              "       [4.2405354e-06]], dtype=float32)"
            ]
          },
          "metadata": {},
          "execution_count": 37
        }
      ]
    },
    {
      "cell_type": "code",
      "source": [
        "fpr, tpr, _ = roc_curve(y_test, y_pred)\n",
        "roc_auc = auc(fpr, tpr)\n",
        "plt.figure()\n",
        "lw = 2\n",
        "plt.plot(fpr, tpr, color='darkorange',\n",
        "lw=lw, label='ROC curve (area = %0.2f)' % roc_auc)\n",
        "plt.plot([0, 1], [0, 1], color='navy', lw=lw, linestyle='--')\n",
        "plt.xlim([0.0, 1.0])\n",
        "plt.ylim([0.0, 1.05])\n",
        "plt.xlabel('False Positive Rate')\n",
        "plt.ylabel('True Positive Rate')\n",
        "plt.title('Receiver operating characteristic example')\n",
        "plt.legend(loc=\"lower right\")\n",
        "plt.show()"
      ],
      "metadata": {
        "colab": {
          "base_uri": "https://localhost:8080/",
          "height": 295
        },
        "id": "TfzcWEo5S6r1",
        "outputId": "b2a7230c-39f5-4362-8a8b-fcf2fb5b1dac"
      },
      "execution_count": 38,
      "outputs": [
        {
          "output_type": "display_data",
          "data": {
            "image/png": "[encoded data removed]",
            "text/plain": [
              "<Figure size 432x288 with 1 Axes>"
            ]
          },
          "metadata": {
            "needs_background": "light"
          }
        }
      ]
    },
    {
      "cell_type": "code",
      "source": [
        "y_pred = np.piecewise(y_pred, [y_pred < 0.5, y_pred >= 0.5], [0., 1.]).flatten()\n",
        "y_pred"
      ],
      "metadata": {
        "colab": {
          "base_uri": "https://localhost:8080/"
        },
        "id": "ZV8bFJMcTBXx",
        "outputId": "9d56e5b6-5980-4a0c-9b02-1853b3f09a43"
      },
      "execution_count": 39,
      "outputs": [
        {
          "output_type": "execute_result",
          "data": {
            "text/plain": [
              "array([1., 0., 0., ..., 0., 0., 0.], dtype=float32)"
            ]
          },
          "metadata": {},
          "execution_count": 39
        }
      ]
    },
    {
      "cell_type": "code",
      "source": [
        "a = confusion_matrix(y_test, y_pred)\n",
        "print(a)"
      ],
      "metadata": {
        "colab": {
          "base_uri": "https://localhost:8080/"
        },
        "id": "5UzLHKvubK4j",
        "outputId": "43dba164-f98a-4777-8e3a-46af92c49aeb"
      },
      "execution_count": 40,
      "outputs": [
        {
          "output_type": "stream",
          "name": "stdout",
          "text": [
            "[[923  96]\n",
            " [ 31 930]]\n"
          ]
        }
      ]
    },
    {
      "cell_type": "code",
      "source": [
        "a = classification_report(y_test, y_pred, target_names=['Neg Pair', 'Pos Pair'])\n",
        "print(a)"
      ],
      "metadata": {
        "colab": {
          "base_uri": "https://localhost:8080/"
        },
        "id": "DmuiHSr0TuOG",
        "outputId": "9f8abb4a-ec62-41d8-8e4c-b1d623654cf7"
      },
      "execution_count": 41,
      "outputs": [
        {
          "output_type": "stream",
          "name": "stdout",
          "text": [
            "              precision    recall  f1-score   support\n",
            "\n",
            "    Neg Pair       0.97      0.91      0.94      1019\n",
            "    Pos Pair       0.91      0.97      0.94       961\n",
            "\n",
            "    accuracy                           0.94      1980\n",
            "   macro avg       0.94      0.94      0.94      1980\n",
            "weighted avg       0.94      0.94      0.94      1980\n",
            "\n"
          ]
        }
      ]
    }
  ]
}